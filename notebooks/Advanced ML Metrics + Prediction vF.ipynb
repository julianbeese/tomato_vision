{
  "nbformat": 4,
  "nbformat_minor": 0,
  "metadata": {
    "colab": {
      "provenance": []
    },
    "kernelspec": {
      "name": "python3",
      "display_name": "Python 3"
    },
    "language_info": {
      "name": "python"
    }
  },
  "cells": [
    {
      "cell_type": "code",
      "execution_count": 1,
      "metadata": {
        "colab": {
          "base_uri": "https://localhost:8080/"
        },
        "id": "A1zvGvDXLIgH",
        "outputId": "e01d6c83-1af5-4471-8a33-3b83e1cb0f1b"
      },
      "outputs": [
        {
          "output_type": "stream",
          "name": "stderr",
          "text": [
            "/usr/local/lib/python3.11/dist-packages/torchvision/models/_utils.py:208: UserWarning: The parameter 'pretrained' is deprecated since 0.13 and may be removed in the future, please use 'weights' instead.\n",
            "  warnings.warn(\n",
            "/usr/local/lib/python3.11/dist-packages/torchvision/models/_utils.py:223: UserWarning: Arguments other than a weight enum or `None` for 'weights' are deprecated since 0.13 and may be removed in the future. The current behavior is equivalent to passing `weights=None`.\n",
            "  warnings.warn(msg)\n"
          ]
        },
        {
          "output_type": "execute_result",
          "data": {
            "text/plain": [
              "ResNet(\n",
              "  (conv1): Conv2d(3, 64, kernel_size=(7, 7), stride=(2, 2), padding=(3, 3), bias=False)\n",
              "  (bn1): BatchNorm2d(64, eps=1e-05, momentum=0.1, affine=True, track_running_stats=True)\n",
              "  (relu): ReLU(inplace=True)\n",
              "  (maxpool): MaxPool2d(kernel_size=3, stride=2, padding=1, dilation=1, ceil_mode=False)\n",
              "  (layer1): Sequential(\n",
              "    (0): BasicBlock(\n",
              "      (conv1): Conv2d(64, 64, kernel_size=(3, 3), stride=(1, 1), padding=(1, 1), bias=False)\n",
              "      (bn1): BatchNorm2d(64, eps=1e-05, momentum=0.1, affine=True, track_running_stats=True)\n",
              "      (relu): ReLU(inplace=True)\n",
              "      (conv2): Conv2d(64, 64, kernel_size=(3, 3), stride=(1, 1), padding=(1, 1), bias=False)\n",
              "      (bn2): BatchNorm2d(64, eps=1e-05, momentum=0.1, affine=True, track_running_stats=True)\n",
              "    )\n",
              "    (1): BasicBlock(\n",
              "      (conv1): Conv2d(64, 64, kernel_size=(3, 3), stride=(1, 1), padding=(1, 1), bias=False)\n",
              "      (bn1): BatchNorm2d(64, eps=1e-05, momentum=0.1, affine=True, track_running_stats=True)\n",
              "      (relu): ReLU(inplace=True)\n",
              "      (conv2): Conv2d(64, 64, kernel_size=(3, 3), stride=(1, 1), padding=(1, 1), bias=False)\n",
              "      (bn2): BatchNorm2d(64, eps=1e-05, momentum=0.1, affine=True, track_running_stats=True)\n",
              "    )\n",
              "  )\n",
              "  (layer2): Sequential(\n",
              "    (0): BasicBlock(\n",
              "      (conv1): Conv2d(64, 128, kernel_size=(3, 3), stride=(2, 2), padding=(1, 1), bias=False)\n",
              "      (bn1): BatchNorm2d(128, eps=1e-05, momentum=0.1, affine=True, track_running_stats=True)\n",
              "      (relu): ReLU(inplace=True)\n",
              "      (conv2): Conv2d(128, 128, kernel_size=(3, 3), stride=(1, 1), padding=(1, 1), bias=False)\n",
              "      (bn2): BatchNorm2d(128, eps=1e-05, momentum=0.1, affine=True, track_running_stats=True)\n",
              "      (downsample): Sequential(\n",
              "        (0): Conv2d(64, 128, kernel_size=(1, 1), stride=(2, 2), bias=False)\n",
              "        (1): BatchNorm2d(128, eps=1e-05, momentum=0.1, affine=True, track_running_stats=True)\n",
              "      )\n",
              "    )\n",
              "    (1): BasicBlock(\n",
              "      (conv1): Conv2d(128, 128, kernel_size=(3, 3), stride=(1, 1), padding=(1, 1), bias=False)\n",
              "      (bn1): BatchNorm2d(128, eps=1e-05, momentum=0.1, affine=True, track_running_stats=True)\n",
              "      (relu): ReLU(inplace=True)\n",
              "      (conv2): Conv2d(128, 128, kernel_size=(3, 3), stride=(1, 1), padding=(1, 1), bias=False)\n",
              "      (bn2): BatchNorm2d(128, eps=1e-05, momentum=0.1, affine=True, track_running_stats=True)\n",
              "    )\n",
              "  )\n",
              "  (layer3): Sequential(\n",
              "    (0): BasicBlock(\n",
              "      (conv1): Conv2d(128, 256, kernel_size=(3, 3), stride=(2, 2), padding=(1, 1), bias=False)\n",
              "      (bn1): BatchNorm2d(256, eps=1e-05, momentum=0.1, affine=True, track_running_stats=True)\n",
              "      (relu): ReLU(inplace=True)\n",
              "      (conv2): Conv2d(256, 256, kernel_size=(3, 3), stride=(1, 1), padding=(1, 1), bias=False)\n",
              "      (bn2): BatchNorm2d(256, eps=1e-05, momentum=0.1, affine=True, track_running_stats=True)\n",
              "      (downsample): Sequential(\n",
              "        (0): Conv2d(128, 256, kernel_size=(1, 1), stride=(2, 2), bias=False)\n",
              "        (1): BatchNorm2d(256, eps=1e-05, momentum=0.1, affine=True, track_running_stats=True)\n",
              "      )\n",
              "    )\n",
              "    (1): BasicBlock(\n",
              "      (conv1): Conv2d(256, 256, kernel_size=(3, 3), stride=(1, 1), padding=(1, 1), bias=False)\n",
              "      (bn1): BatchNorm2d(256, eps=1e-05, momentum=0.1, affine=True, track_running_stats=True)\n",
              "      (relu): ReLU(inplace=True)\n",
              "      (conv2): Conv2d(256, 256, kernel_size=(3, 3), stride=(1, 1), padding=(1, 1), bias=False)\n",
              "      (bn2): BatchNorm2d(256, eps=1e-05, momentum=0.1, affine=True, track_running_stats=True)\n",
              "    )\n",
              "  )\n",
              "  (layer4): Sequential(\n",
              "    (0): BasicBlock(\n",
              "      (conv1): Conv2d(256, 512, kernel_size=(3, 3), stride=(2, 2), padding=(1, 1), bias=False)\n",
              "      (bn1): BatchNorm2d(512, eps=1e-05, momentum=0.1, affine=True, track_running_stats=True)\n",
              "      (relu): ReLU(inplace=True)\n",
              "      (conv2): Conv2d(512, 512, kernel_size=(3, 3), stride=(1, 1), padding=(1, 1), bias=False)\n",
              "      (bn2): BatchNorm2d(512, eps=1e-05, momentum=0.1, affine=True, track_running_stats=True)\n",
              "      (downsample): Sequential(\n",
              "        (0): Conv2d(256, 512, kernel_size=(1, 1), stride=(2, 2), bias=False)\n",
              "        (1): BatchNorm2d(512, eps=1e-05, momentum=0.1, affine=True, track_running_stats=True)\n",
              "      )\n",
              "    )\n",
              "    (1): BasicBlock(\n",
              "      (conv1): Conv2d(512, 512, kernel_size=(3, 3), stride=(1, 1), padding=(1, 1), bias=False)\n",
              "      (bn1): BatchNorm2d(512, eps=1e-05, momentum=0.1, affine=True, track_running_stats=True)\n",
              "      (relu): ReLU(inplace=True)\n",
              "      (conv2): Conv2d(512, 512, kernel_size=(3, 3), stride=(1, 1), padding=(1, 1), bias=False)\n",
              "      (bn2): BatchNorm2d(512, eps=1e-05, momentum=0.1, affine=True, track_running_stats=True)\n",
              "    )\n",
              "  )\n",
              "  (avgpool): AdaptiveAvgPool2d(output_size=(1, 1))\n",
              "  (fc): Linear(in_features=512, out_features=21, bias=True)\n",
              ")"
            ]
          },
          "metadata": {},
          "execution_count": 1
        }
      ],
      "source": [
        "import dask.dataframe as dd\n",
        "import pickle\n",
        "import pandas as pd\n",
        "import numpy as np\n",
        "\n",
        "import torch\n",
        "import torch.nn as nn\n",
        "import torch.optim as optim\n",
        "from torch.utils.data import Dataset, DataLoader\n",
        "from torchvision import models, transforms\n",
        "\n",
        "from PIL import Image\n",
        "from io import BytesIO\n",
        "from sklearn.preprocessing import LabelEncoder\n",
        "\n",
        "# Set device\n",
        "device = torch.device(\"cuda\" if torch.cuda.is_available() else \"cpu\")\n",
        "\n",
        "# Load model info\n",
        "with open('advanced_ml_project_model_vF.pkl', 'rb') as f:\n",
        "    model_info = pickle.load(f)\n",
        "\n",
        "num_classes = model_info['num_classes']\n",
        "\n",
        "# Rebuild architecture\n",
        "model = models.resnet18(pretrained=False)\n",
        "model.fc = nn.Linear(model.fc.in_features, num_classes)\n",
        "model.load_state_dict(model_info['state_dict'])\n",
        "\n",
        "model = model.to(device)\n",
        "model.eval()"
      ]
    },
    {
      "cell_type": "code",
      "source": [
        "# Same image preprocessing used during training\n",
        "transform = transforms.Compose([\n",
        "    transforms.Resize((224, 224)),\n",
        "    transforms.ToTensor()\n",
        "])\n",
        "\n",
        "# Load the encoder\n",
        "with open('label_encoder_vF.pkl', 'rb') as f:\n",
        "    le = pickle.load(f)\n",
        "\n",
        "# Inference function\n",
        "def predict_from_bytes(img_bytes):\n",
        "    model.eval()\n",
        "    image = Image.open(BytesIO(img_bytes)).convert(\"RGB\")\n",
        "    image = transform(image).unsqueeze(0).to(device)  # Add batch dimension\n",
        "    with torch.no_grad():\n",
        "        outputs = model(image)\n",
        "        _, predicted = torch.max(outputs, 1)\n",
        "        class_index = predicted.item()\n",
        "        return le.inverse_transform([class_index])[0]  # Return class label"
      ],
      "metadata": {
        "id": "3vTaDohJQjEZ"
      },
      "execution_count": 2,
      "outputs": []
    },
    {
      "cell_type": "markdown",
      "source": [
        "#DataSet"
      ],
      "metadata": {
        "id": "KNl3dWKZwGvV"
      }
    },
    {
      "cell_type": "code",
      "source": [
        "# Read the dataset from Hugging Face using Dask\n",
        "df = dd.read_parquet(\n",
        "    \"hf://datasets/raghavendrad60/vqa_plant-disease-classification-merged-dataset/data/train-*.parquet\",\n",
        "    columns=['class', 'image']\n",
        ")\n",
        "\n",
        "# Plants to keep\n",
        "patterns = ['Tomato', 'Chili', 'Cucumber', 'Strawberry', 'Pepper']\n",
        "desired_plants = [p.lower() for p in patterns]\n",
        "\n",
        "# Filter function to include only desired plants\n",
        "def filter_partition(df):\n",
        "    df['class'] = df['class'].astype(str).str.strip().str.lower()\n",
        "    df['plant'] = df['class'].str.extract(r'^([^_]+)')\n",
        "    return df[df['plant'].isin(desired_plants)]\n",
        "\n",
        "df = df.map_partitions(filter_partition).persist()\n",
        "\n",
        "# Function to sample a small number of rows from a partition\n",
        "def sample_partition(partition, n_per_partition=400):\n",
        "    return partition.sample(n=min(len(partition), n_per_partition), random_state=42)\n",
        "\n",
        "# Sample a limited number of rows from each partition\n",
        "sampled = df.map_partitions(sample_partition, n_per_partition=400)\n",
        "\n",
        "# Collect the sampled data into memory, then take a final random sample of 50000\n",
        "sampled_df = sampled.compute()\n",
        "final_sample = sampled_df.sample(n=min(50000, len(sampled_df)), random_state=42)"
      ],
      "metadata": {
        "id": "7TB3DNZswH7n",
        "colab": {
          "base_uri": "https://localhost:8080/"
        },
        "outputId": "276e205a-c46c-465a-ac11-0c8b50f01f0d"
      },
      "execution_count": 3,
      "outputs": [
        {
          "output_type": "stream",
          "name": "stderr",
          "text": [
            "/usr/local/lib/python3.11/dist-packages/huggingface_hub/utils/_auth.py:94: UserWarning: \n",
            "The secret `HF_TOKEN` does not exist in your Colab secrets.\n",
            "To authenticate with the Hugging Face Hub, create a token in your settings tab (https://huggingface.co/settings/tokens), set it as secret in your Google Colab and restart your session.\n",
            "You will be able to reuse this secret in all of your notebooks.\n",
            "Please note that authentication is recommended but still optional to access public models or datasets.\n",
            "  warnings.warn(\n"
          ]
        }
      ]
    },
    {
      "cell_type": "code",
      "source": [
        "import matplotlib.pyplot as plt\n",
        "import seaborn as sns\n",
        "import pandas as pd\n",
        "\n",
        "# Add 'plant' column to sampled_df\n",
        "sampled_df['plant'] = sampled_df['class'].str.extract(r'^([^_]+)').iloc[:, 0]\n",
        "\n",
        "# Compute full (filtered) dataset\n",
        "full_df = df.compute()\n",
        "full_df['plant'] = full_df['class'].str.extract(r'^([^_]+)').iloc[:, 0]\n",
        "\n",
        "# Create normalized frequency (density) data\n",
        "full_density = full_df['plant'].value_counts(normalize=True)\n",
        "sampled_density = sampled_df['plant'].value_counts(normalize=True)\n",
        "\n",
        "# Convert to DataFrame for plotting\n",
        "density_df = pd.DataFrame({\n",
        "    'Full Dataset': full_density,\n",
        "    'Sampled Dataset': sampled_density\n",
        "}).fillna(0).sort_index()\n",
        "\n",
        "# Reset index and rename\n",
        "density_df = density_df.reset_index().rename(columns={'index': 'plant'})\n",
        "\n",
        "# Melt for seaborn\n",
        "density_melted = density_df.melt(id_vars='plant', var_name='Dataset', value_name='Density')\n",
        "\n",
        "# Plotting\n",
        "plt.figure(figsize=(10, 6))\n",
        "sns.barplot(data=density_melted, x='plant', y='Density', hue='Dataset')\n",
        "plt.title(\"Plant Class Distribution (Normalized Density)\")\n",
        "plt.ylabel(\"Density (Proportion)\")\n",
        "plt.xlabel(\"Plant Type\")\n",
        "plt.xticks(rotation=45)\n",
        "plt.tight_layout()\n",
        "plt.show()"
      ],
      "metadata": {
        "colab": {
          "base_uri": "https://localhost:8080/",
          "height": 607
        },
        "id": "veiB7sxDrS9w",
        "outputId": "d80903ab-3725-4b92-fb56-06afaea8f636"
      },
      "execution_count": 4,
      "outputs": [
        {
          "output_type": "display_data",
          "data": {
            "text/plain": [
              "<Figure size 1000x600 with 1 Axes>"
            ],
            "image/png": "[encoded data removed]"
          },
          "metadata": {}
        }
      ]
    },
    {
      "cell_type": "code",
      "source": [
        "# Count rows per class sample\n",
        "class_counts = final_sample['class'].value_counts()\n",
        "print(class_counts)"
      ],
      "metadata": {
        "colab": {
          "base_uri": "https://localhost:8080/"
        },
        "id": "gkuOiAS1sj9S",
        "outputId": "0a406fe4-132a-4a22-ceef-a7a86f96101c"
      },
      "execution_count": 5,
      "outputs": [
        {
          "output_type": "stream",
          "name": "stdout",
          "text": [
            "class\n",
            "tomato__yellow_leaf_curl_virus                    749\n",
            "tomato__target_spot                               729\n",
            "tomato__late_blight                               571\n",
            "tomato__septoria_leaf_spot                        469\n",
            "tomato__leaf_mold                                 413\n",
            "tomato__spider_mites_(two_spotted_spider_mite)    400\n",
            "strawberry___leaf_scorch                          400\n",
            "strawberry__healthy                               387\n",
            "tomato__healthy                                   381\n",
            "pepper_bell__healthy                              342\n",
            "cucumber__healthy                                 341\n",
            "tomato__bacterial_spot                            331\n",
            "tomato__mosaic_virus                              290\n",
            "tomato__early_blight                              255\n",
            "pepper_bell__bacterial_spot                       203\n",
            "chili__yellowish                                  100\n",
            "chili__leaf curl                                  100\n",
            "cucumber__diseased                                 90\n",
            "chili__healthy                                     71\n",
            "chili__leaf spot                                   71\n",
            "chili__whitefly                                    28\n",
            "Name: count, dtype: int64\n"
          ]
        }
      ]
    },
    {
      "cell_type": "code",
      "source": [
        "# Count rows per class full dataset\n",
        "class_counts = full_df['class'].value_counts()\n",
        "print(class_counts)"
      ],
      "metadata": {
        "colab": {
          "base_uri": "https://localhost:8080/"
        },
        "id": "VeRnzyEBso7l",
        "outputId": "2707413d-9433-4b7e-9d14-ba29b2280b96"
      },
      "execution_count": 6,
      "outputs": [
        {
          "output_type": "stream",
          "name": "stdout",
          "text": [
            "class\n",
            "tomato__yellow_leaf_curl_virus                    3214\n",
            "tomato__bacterial_spot                            2136\n",
            "tomato__late_blight                               1919\n",
            "tomato__septoria_leaf_spot                        1782\n",
            "tomato__spider_mites_(two_spotted_spider_mite)    1676\n",
            "tomato__healthy                                   1598\n",
            "pepper_bell__healthy                              1539\n",
            "tomato__target_spot                               1404\n",
            "strawberry___leaf_scorch                          1109\n",
            "pepper_bell__bacterial_spot                       1067\n",
            "tomato__early_blight                              1009\n",
            "tomato__leaf_mold                                  957\n",
            "strawberry__healthy                                456\n",
            "tomato__mosaic_virus                               382\n",
            "cucumber__diseased                                 350\n",
            "cucumber__healthy                                  341\n",
            "chili__whitefly                                    100\n",
            "chili__healthy                                     100\n",
            "chili__yellowish                                   100\n",
            "chili__leaf curl                                   100\n",
            "chili__leaf spot                                   100\n",
            "Name: count, dtype: int64\n"
          ]
        }
      ]
    },
    {
      "cell_type": "markdown",
      "source": [
        "#Convusion Matrix"
      ],
      "metadata": {
        "id": "R_vx7vOBv3qz"
      }
    },
    {
      "cell_type": "code",
      "source": [
        "from tqdm import tqdm\n",
        "from sklearn.metrics import confusion_matrix, ConfusionMatrixDisplay\n",
        "\n",
        "# Generate predictions and collect true labels\n",
        "true_labels = []\n",
        "predicted_labels = []\n",
        "\n",
        "for idx, row in tqdm(final_sample.iterrows(), total=len(final_sample), desc=\"Generating predictions\"):\n",
        "    img_bytes = row['image']['bytes']\n",
        "    true_label = row['class'].strip().lower()\n",
        "    try:\n",
        "        predicted_label = predict_from_bytes(img_bytes)\n",
        "        true_labels.append(true_label)\n",
        "        predicted_labels.append(predicted_label)\n",
        "    except Exception as e:\n",
        "        print(f\"Error processing row {idx}: {e}\")"
      ],
      "metadata": {
        "id": "DhmqyEWiv3AT",
        "colab": {
          "base_uri": "https://localhost:8080/"
        },
        "outputId": "c4d98424-81ce-4fb3-a4c4-09ce4ec21afc"
      },
      "execution_count": 7,
      "outputs": [
        {
          "output_type": "stream",
          "name": "stderr",
          "text": [
            "Generating predictions: 100%|██████████| 6721/6721 [13:41<00:00,  8.18it/s]\n"
          ]
        }
      ]
    },
    {
      "cell_type": "code",
      "source": [
        "from sklearn.metrics import confusion_matrix\n",
        "\n",
        "# Convert to binary labels\n",
        "def to_binary(label):\n",
        "    return 'healthy' if 'healthy' in label else 'diseased'\n",
        "\n",
        "# Apply conversion\n",
        "true_labels_binary = [to_binary(label) for label in true_labels]\n",
        "predicted_labels_binary = [to_binary(label) for label in predicted_labels]\n",
        "\n",
        "# Generate confusion matrix\n",
        "cm = confusion_matrix(true_labels_binary, predicted_labels_binary, labels=['diseased', 'healthy'])\n",
        "\n",
        "# Unpack into TP, FP, FN, TN\n",
        "tp = cm[0, 0]  # Diseased predicted as diseased\n",
        "fp = cm[1, 0]  # Healthy predicted as diseased\n",
        "fn = cm[0, 1]  # Diseased predicted as healthy\n",
        "tn = cm[1, 1]  # Healthy predicted as healthy\n",
        "\n",
        "print(f\"True Positive (TP): {tp}\")\n",
        "print(f\"False Positive (FP): {fp}\")\n",
        "print(f\"False Negative (FN): {fn}\")\n",
        "print(f\"True Negative (TN): {tn}\")"
      ],
      "metadata": {
        "id": "pL109ZQdNsq2",
        "colab": {
          "base_uri": "https://localhost:8080/"
        },
        "outputId": "668c11eb-9946-4965-f8d1-4f03303e0e7a"
      },
      "execution_count": 8,
      "outputs": [
        {
          "output_type": "stream",
          "name": "stdout",
          "text": [
            "True Positive (TP): 4947\n",
            "False Positive (FP): 19\n",
            "False Negative (FN): 252\n",
            "True Negative (TN): 1503\n"
          ]
        }
      ]
    },
    {
      "cell_type": "markdown",
      "source": [
        "# Metrics"
      ],
      "metadata": {
        "id": "Q7X5kqXAIkQz"
      }
    },
    {
      "cell_type": "code",
      "source": [
        "from sklearn.metrics import accuracy_score, precision_recall_fscore_support, classification_report\n",
        "\n",
        "# Compute basic metrics\n",
        "accuracy = accuracy_score(true_labels, predicted_labels)\n",
        "precision, recall, f1, _ = precision_recall_fscore_support(true_labels, predicted_labels, average='weighted')  # or 'macro', 'micro'\n",
        "\n",
        "# Print results\n",
        "print(f\"Accuracy:  {accuracy:.4f}\")\n",
        "print(f\"Precision: {precision:.4f}\")\n",
        "print(f\"Recall:    {recall:.4f}\")\n",
        "print(f\"F1 Score:  {f1:.4f}\")\n",
        "\n",
        "# Optionally: detailed per-class report\n",
        "print(\"\\nClassification Report:\\n\")\n",
        "print(classification_report(true_labels, predicted_labels, target_names=le.classes_))"
      ],
      "metadata": {
        "id": "beluAYoNIjn1",
        "colab": {
          "base_uri": "https://localhost:8080/"
        },
        "outputId": "2dfd50b1-670b-4259-ae31-0fa29deff107"
      },
      "execution_count": 9,
      "outputs": [
        {
          "output_type": "stream",
          "name": "stdout",
          "text": [
            "Accuracy:  0.8985\n",
            "Precision: 0.9139\n",
            "Recall:    0.8985\n",
            "F1 Score:  0.8955\n",
            "\n",
            "Classification Report:\n",
            "\n",
            "                                                precision    recall  f1-score   support\n",
            "\n",
            "                                chili__healthy       0.50      0.90      0.64        71\n",
            "                              chili__leaf curl       0.53      0.87      0.66       100\n",
            "                              chili__leaf spot       0.93      0.39      0.55        71\n",
            "                               chili__whitefly       0.85      0.39      0.54        28\n",
            "                              chili__yellowish       1.00      0.24      0.39       100\n",
            "                            cucumber__diseased       0.92      0.86      0.89        90\n",
            "                             cucumber__healthy       0.96      0.97      0.97       341\n",
            "                   pepper_bell__bacterial_spot       0.90      0.61      0.73       203\n",
            "                          pepper_bell__healthy       0.70      0.99      0.82       342\n",
            "                      strawberry___leaf_scorch       0.96      0.99      0.97       400\n",
            "                           strawberry__healthy       0.94      1.00      0.97       387\n",
            "                        tomato__bacterial_spot       0.98      0.89      0.93       331\n",
            "                          tomato__early_blight       0.88      0.73      0.80       255\n",
            "                               tomato__healthy       0.97      0.98      0.98       381\n",
            "                           tomato__late_blight       0.86      0.89      0.87       571\n",
            "                             tomato__leaf_mold       0.98      0.91      0.94       413\n",
            "                          tomato__mosaic_virus       0.92      0.98      0.95       290\n",
            "                    tomato__septoria_leaf_spot       0.99      0.77      0.86       469\n",
            "tomato__spider_mites_(two_spotted_spider_mite)       0.96      0.82      0.89       400\n",
            "                           tomato__target_spot       0.85      0.99      0.92       729\n",
            "                tomato__yellow_leaf_curl_virus       0.98      0.99      0.99       749\n",
            "\n",
            "                                      accuracy                           0.90      6721\n",
            "                                     macro avg       0.88      0.82      0.82      6721\n",
            "                                  weighted avg       0.91      0.90      0.90      6721\n",
            "\n"
          ]
        }
      ]
    },
    {
      "cell_type": "markdown",
      "source": [
        "#Prediction"
      ],
      "metadata": {
        "id": "RnXAtMmPwCVv"
      }
    },
    {
      "cell_type": "code",
      "source": [
        "# Picture input (from file or database)\n",
        "with open(\"/content/Tomato_Leaf_Mold_Test3\", \"rb\") as f:\n",
        "    img_bytes = f.read()\n",
        "\n",
        "predicted_class = predict_from_bytes(img_bytes)\n",
        "print(\"Predicted class:\", predicted_class)"
      ],
      "metadata": {
        "id": "aqf59NiAQmAK",
        "colab": {
          "base_uri": "https://localhost:8080/"
        },
        "outputId": "8cc464ae-0230-46cf-8461-dcade8d69d84"
      },
      "execution_count": 11,
      "outputs": [
        {
          "output_type": "stream",
          "name": "stdout",
          "text": [
            "Predicted class: tomato__leaf_mold\n"
          ]
        }
      ]
    }
  ]
}